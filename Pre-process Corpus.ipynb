{
 "cells": [
  {
   "cell_type": "code",
   "execution_count": 1,
   "metadata": {},
   "outputs": [],
   "source": [
    "import opencc; cc = opencc.OpenCC('t2s.json')\n",
    "\n",
    "from dtl import dtl_mongo; dbi = dtl_mongo.DTLMongo()\n",
    "from sdemb import data"
   ]
  },
  {
   "cell_type": "code",
   "execution_count": 2,
   "metadata": {},
   "outputs": [],
   "source": [
    "ccp_new_domains = [\n",
    "    'qstheory.cn',\n",
    "    'people.com.cn',\n",
    "    'zgw-bj.com',\n",
    "    'xinhua.net',\n",
    "    'huanqiu.com',\n",
    "    'hubpd.com',\n",
    "]\n",
    "tw_domains = [\n",
    "    'ltn.com.tw',\n",
    "    'chinatimes.com',\n",
    "    \n",
    "]\n",
    "domains = ccp_new_domains + tw_domains"
   ]
  },
  {
   "cell_type": "code",
   "execution_count": 3,
   "metadata": {},
   "outputs": [],
   "source": [
    "domain_map = {\n",
    "    'ccp': ccp_new_domains,\n",
    "    'liberty_times': ['ltn.com.tw'],\n",
    "    'china_times': ['chinatimes.com'],\n",
    "}"
   ]
  },
  {
   "cell_type": "code",
   "execution_count": 4,
   "metadata": {},
   "outputs": [],
   "source": [
    "class DtlData(data.RawData):\n",
    "    \n",
    "    def __init__(self):\n",
    "        super().__init__(\n",
    "            corpus_name='dtl1',\n",
    "            group_names=['ccp', 'liberty_times', 'china_times'],\n",
    "            min_tok_count=5,\n",
    "            n_vocab=20000)\n",
    "    \n",
    "    def doc_ids(self, group_name):\n",
    "        doc_ids = []\n",
    "        for domain in domain_map[group_name]:\n",
    "            doc_ids += [str(x['articleId']) for x in dbi.jtoks.search(domain=domain)]\n",
    "        return doc_ids\n",
    "    \n",
    "    def doc_tokens(self, doc_id):\n",
    "        tokens = []\n",
    "        article = dbi.jtoks.get(articleId=doc_id)\n",
    "        for sent in article['sents']:\n",
    "            tokens += sent\n",
    "        if article['domain'] in tw_domains:\n",
    "            tokens = [cc.convert(t) for t in tokens]\n",
    "        return tokens"
   ]
  },
  {
   "cell_type": "code",
   "execution_count": 5,
   "metadata": {},
   "outputs": [],
   "source": [
    "raw_data = DtlData()"
   ]
  },
  {
   "cell_type": "code",
   "execution_count": 6,
   "metadata": {},
   "outputs": [
    {
     "data": {
      "application/vnd.jupyter.widget-view+json": {
       "model_id": "5fc8f194474c4e94b4205069802c8808",
       "version_major": 2,
       "version_minor": 0
      },
      "text/plain": [
       "HBox(children=(FloatProgress(value=0.0, max=3.0), HTML(value='')))"
      ]
     },
     "metadata": {},
     "output_type": "display_data"
    },
    {
     "name": "stdout",
     "output_type": "stream",
     "text": [
      "\n"
     ]
    },
    {
     "data": {
      "application/vnd.jupyter.widget-view+json": {
       "model_id": "ea5e65b42e7540958249e347e268f3bc",
       "version_major": 2,
       "version_minor": 0
      },
      "text/plain": [
       "HBox(children=(FloatProgress(value=0.0, max=3.0), HTML(value='')))"
      ]
     },
     "metadata": {},
     "output_type": "display_data"
    },
    {
     "data": {
      "application/vnd.jupyter.widget-view+json": {
       "model_id": "604b7cd95cf54749aea45d09be53a800",
       "version_major": 2,
       "version_minor": 0
      },
      "text/plain": [
       "HBox(children=(FloatProgress(value=0.0, max=96536.0), HTML(value='')))"
      ]
     },
     "metadata": {},
     "output_type": "display_data"
    },
    {
     "name": "stdout",
     "output_type": "stream",
     "text": [
      "\n"
     ]
    },
    {
     "data": {
      "application/vnd.jupyter.widget-view+json": {
       "model_id": "d37093b7541f44398cc8fabd918baceb",
       "version_major": 2,
       "version_minor": 0
      },
      "text/plain": [
       "HBox(children=(FloatProgress(value=0.0, max=4429.0), HTML(value='')))"
      ]
     },
     "metadata": {},
     "output_type": "display_data"
    },
    {
     "name": "stdout",
     "output_type": "stream",
     "text": [
      "\n"
     ]
    },
    {
     "data": {
      "application/vnd.jupyter.widget-view+json": {
       "model_id": "7a3ef966ed3c4967b52b52bab6ca0857",
       "version_major": 2,
       "version_minor": 0
      },
      "text/plain": [
       "HBox(children=(FloatProgress(value=0.0, max=9067.0), HTML(value='')))"
      ]
     },
     "metadata": {},
     "output_type": "display_data"
    },
    {
     "name": "stdout",
     "output_type": "stream",
     "text": [
      "\n",
      "\n"
     ]
    }
   ],
   "source": [
    "corpus = data.Corpus.from_data(raw_data)"
   ]
  },
  {
   "cell_type": "code",
   "execution_count": 7,
   "metadata": {},
   "outputs": [
    {
     "data": {
      "text/plain": [
       "13997"
      ]
     },
     "execution_count": 7,
     "metadata": {},
     "output_type": "execute_result"
    }
   ],
   "source": [
    "len(corpus.vocab)"
   ]
  },
  {
   "cell_type": "code",
   "execution_count": null,
   "metadata": {},
   "outputs": [],
   "source": []
  }
 ],
 "metadata": {
  "kernelspec": {
   "display_name": "dtl",
   "language": "python",
   "name": "dtl"
  },
  "language_info": {
   "codemirror_mode": {
    "name": "ipython",
    "version": 3
   },
   "file_extension": ".py",
   "mimetype": "text/x-python",
   "name": "python",
   "nbconvert_exporter": "python",
   "pygments_lexer": "ipython3",
   "version": "3.7.7"
  }
 },
 "nbformat": 4,
 "nbformat_minor": 4
}
