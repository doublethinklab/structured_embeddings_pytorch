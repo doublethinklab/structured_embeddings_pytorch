{
 "cells": [
  {
   "cell_type": "code",
   "execution_count": 5,
   "metadata": {},
   "outputs": [],
   "source": [
    "import numpy as np\n",
    "\n",
    "from sdemb.models import bern_struc\n",
    "from sdemb.data import Corpus"
   ]
  },
  {
   "cell_type": "code",
   "execution_count": 4,
   "metadata": {},
   "outputs": [],
   "source": [
    "embeds = np.load('data/dtl1/w2v.gensim.npy')\n",
    "corpus = Corpus.load('dtl1')"
   ]
  },
  {
   "cell_type": "code",
   "execution_count": null,
   "metadata": {},
   "outputs": [],
   "source": [
    "model = bern_struc.HierarchicalBernoulliEmbeddings(\n",
    "    n_context=8,\n",
    "    n_negative_samples=20,\n",
    "    n_vocab=len(corpus.vocab),\n",
    "    n_dim=100,\n",
    "    n_groups=corpus.n_groups,\n",
    "    sigma=0.1)"
   ]
  }
 ],
 "metadata": {
  "kernelspec": {
   "display_name": "dtl",
   "language": "python",
   "name": "dtl"
  },
  "language_info": {
   "codemirror_mode": {
    "name": "ipython",
    "version": 3
   },
   "file_extension": ".py",
   "mimetype": "text/x-python",
   "name": "python",
   "nbconvert_exporter": "python",
   "pygments_lexer": "ipython3",
   "version": "3.7.7"
  }
 },
 "nbformat": 4,
 "nbformat_minor": 4
}
